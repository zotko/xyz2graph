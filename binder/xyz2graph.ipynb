{
 "cells": [
  {
   "cell_type": "code",
   "execution_count": null,
   "metadata": {},
   "outputs": [],
   "source": [
    "from xyz2graph import MolGraph"
   ]
  },
  {
   "cell_type": "code",
   "execution_count": null,
   "metadata": {},
   "outputs": [],
   "source": [
    "# Create molecular graph and read XYZ file\n",
    "mg = MolGraph()\n",
    "mg.read_xyz('../examples/dsgdb9nsd_030472.xyz')\n",
    "\n",
    "# Generate interactive 3D visualization\n",
    "fig = mg.to_plotly()\n",
    "fig.show()"
   ]
  },
  {
   "cell_type": "code",
   "execution_count": null,
   "metadata": {},
   "outputs": [],
   "source": [
    "# Generate XYZ file string\n",
    "xyz_str = mg.to_string()\n",
    "print(xyz_str)"
   ]
  },
  {
   "cell_type": "code",
   "execution_count": null,
   "metadata": {},
   "outputs": [],
   "source": [
    "# Creat molecular graph from string\n",
    "xyz_str = \"\"\"19\n",
    "\n",
    "C 0.1718396797 1.4440789224 0.2473852864\n",
    "C -0.0134772223 -0.0326757574 0.0938838006\n",
    "C 0.1911918378 -0.7602489274 -1.0094614486\n",
    "C -0.0813817148 -2.2280845682 -0.8268852762\n",
    "C 1.1888060415 -3.1274931355 -0.6555344372\n",
    "C 1.0072262499 -2.9809298727 0.8649620514\n",
    "O 1.7002498947 -3.2153415856 1.8121104941\n",
    "C -0.3781727538 -2.3187190045 0.7118575614\n",
    "C -0.5011349614 -0.8838757759 1.2539682327\n",
    "H 0.9138428957 1.6706272458 1.0233883876\n",
    "H 0.5008268994 1.9104479694 -0.6849988179\n",
    "H -0.7617855184 1.9284667049 0.5611273403\n",
    "H 0.5329169007 -0.3495980615 -1.9547455555\n",
    "H -0.8300449081 -2.6244457733 -1.5177412211\n",
    "H 1.0406339629 -4.1643541340 -0.9779621725\n",
    "H 2.1342332626 -2.7639536285 -1.0666321354\n",
    "H -1.1876969857 -2.9870255658 1.0159842036\n",
    "H 0.1026579561 -0.7413714326 2.1588693984\n",
    "H -1.5333315866 -0.6261358196 1.5267273780\n",
    "\"\"\"\n",
    "\n",
    "mg.from_string(xyz_str)\n",
    "mg.to_plotly().show()"
   ]
  },
  {
   "cell_type": "code",
   "execution_count": null,
   "metadata": {},
   "outputs": [],
   "source": [
    "# Convert to NetworkX graph\n",
    "G = mg.to_networkx()\n",
    "for edge in G.edges():\n",
    "    i, j = edge\n",
    "    print(f\"{G.nodes[i]['element']}{i} {G.nodes[i]['xyz']} -- \"\n",
    "          f\"{G.nodes[j]['element']}{j} {G.nodes[j]['xyz']} \"\n",
    "          f\" {G.edges[edge]['length']} Å\")"
   ]
  },
  {
   "cell_type": "code",
   "execution_count": null,
   "metadata": {},
   "outputs": [],
   "source": []
  }
 ],
 "metadata": {
  "kernelspec": {
   "display_name": ".venv",
   "language": "python",
   "name": "python3"
  },
  "language_info": {
   "name": "python",
   "version": "3.12.3"
  }
 },
 "nbformat": 4,
 "nbformat_minor": 2
}
